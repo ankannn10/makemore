{
 "cells": [
  {
   "cell_type": "code",
   "execution_count": 1,
   "id": "d4fc6c59",
   "metadata": {},
   "outputs": [],
   "source": [
    "import torch\n",
    "import torch.nn.functional as F\n",
    "import matplotlib.pyplot as plt"
   ]
  },
  {
   "cell_type": "code",
   "execution_count": 2,
   "id": "7069c08b",
   "metadata": {},
   "outputs": [],
   "source": [
    "# reading in all the words\n",
    "words = open('names.txt', 'r').read().splitlines()"
   ]
  },
  {
   "cell_type": "code",
   "execution_count": 3,
   "id": "fa3a7ea1",
   "metadata": {},
   "outputs": [],
   "source": [
    "# building the vocabulary of characters and mappings to/from integers\n",
    "chars = sorted(list(set(''.join(words))))\n",
    "stoi = {s: i + 1 for i, s in enumerate(chars)}\n",
    "stoi['.'] = 0\n",
    "itos = {i: s for s, i in stoi.items()}\n",
    "vocab_size = len(itos)"
   ]
  },
  {
   "cell_type": "code",
   "execution_count": 4,
   "id": "7f9392ac",
   "metadata": {},
   "outputs": [],
   "source": [
    "# building the dataset\n",
    "block_size = 3  # context length: how many characters do we take to predict the next one?\n",
    "\n",
    "def build_dataset(words):\n",
    "    X, Y = [], []\n",
    "    for w in words:\n",
    "        context = [0] * block_size\n",
    "        for ch in w + '.':\n",
    "            ix = stoi[ch]\n",
    "            X.append(context)\n",
    "            Y.append(ix)\n",
    "            context = context[1:] + [ix]  # crop and append\n",
    "\n",
    "    X = torch.tensor(X)\n",
    "    Y = torch.tensor(Y)\n",
    "    return X, Y"
   ]
  },
  {
   "cell_type": "code",
   "execution_count": 5,
   "id": "c215a47c",
   "metadata": {},
   "outputs": [],
   "source": [
    "import random\n",
    "random.seed(10)\n",
    "random.shuffle(words)\n",
    "n1 = int(0.8 * len(words))\n",
    "n2 = int(0.9 * len(words))\n",
    "\n",
    "Xtr, Ytr = build_dataset(words[:n1])      # 80% (train set)\n",
    "Xdev, Ydev = build_dataset(words[n1:n2])  # 10% (val/dev set)\n",
    "Xte, Yte = build_dataset(words[n2:])      # 10% (test set)"
   ]
  },
  {
   "cell_type": "code",
   "execution_count": 6,
   "id": "fd9e78ba",
   "metadata": {},
   "outputs": [],
   "source": [
    "# Defining the classes for the custom layers\n",
    "\n",
    "class Linear:\n",
    "    def __init__(self, fan_in, fan_out, bias=True):\n",
    "        self.weight = torch.randn((fan_in, fan_out), generator=g) / fan_in**0.5\n",
    "        self.bias = torch.zeros(fan_out) if bias else None\n",
    "\n",
    "    def __call__(self, x):\n",
    "        self.out = x @ self.weight\n",
    "        if self.bias is not None:\n",
    "            self.out += self.bias\n",
    "        return self.out\n",
    "\n",
    "    def parameters(self):\n",
    "        return [self.weight] + ([] if self.bias is None else [self.bias])\n",
    "\n",
    "class BatchNorm1d:\n",
    "    def __init__(self, dim, eps=1e-5, momentum=0.1):\n",
    "        self.eps = eps\n",
    "        self.momentum = momentum\n",
    "        self.training = True\n",
    "        # parameters (trained with backprop)\n",
    "        self.gamma = torch.ones(dim)\n",
    "        self.beta = torch.zeros(dim)\n",
    "        # buffers (trained with a running 'momentum update')\n",
    "        self.running_mean = torch.zeros(dim)\n",
    "        self.running_var = torch.ones(dim)\n",
    "\n",
    "    def __call__(self, x):\n",
    "        # calculate the forward pass\n",
    "        if self.training:\n",
    "            xmean = x.mean(0, keepdim=True)  # batch mean\n",
    "            xvar = x.var(0, keepdim=True)  # batch variance\n",
    "        else:\n",
    "            xmean = self.running_mean\n",
    "            xvar = self.running_var\n",
    "\n",
    "        xhat = (x - xmean) / torch.sqrt(xvar + self.eps)  # normalize to unit variance\n",
    "        self.out = self.gamma * xhat + self.beta\n",
    "        # update the buffers\n",
    "        if self.training:\n",
    "            with torch.no_grad():\n",
    "                self.running_mean = (1 - self.momentum) * self.running_mean + self.momentum * xmean\n",
    "                self.running_var = (1 - self.momentum) * self.running_var + self.momentum * xvar\n",
    "\n",
    "        return self.out\n",
    "\n",
    "    def parameters(self):\n",
    "        return [self.gamma, self.beta]\n",
    "\n",
    "class Tanh:\n",
    "    def __call__(self, x):\n",
    "        self.out = torch.tanh(x)\n",
    "        return self.out\n",
    "\n",
    "    def parameters(self):\n",
    "        return []"
   ]
  },
  {
   "cell_type": "code",
   "execution_count": 7,
   "id": "6dcf73f7",
   "metadata": {},
   "outputs": [],
   "source": [
    "n_embd = 10  # the dimensionality of the character embedding vectors\n",
    "n_hidden = 400  # the number of neurons in the hidden layer of the MLP\n",
    "g = torch.Generator().manual_seed(573946)\n",
    "\n",
    "# Embedding matrix for the vocabulary\n",
    "C = torch.randn((vocab_size, n_embd), generator=g)"
   ]
  },
  {
   "cell_type": "code",
   "execution_count": 8,
   "id": "eb77fe00",
   "metadata": {},
   "outputs": [],
   "source": [
    "# Define the layers of the model\n",
    "layers = [\n",
    "    Linear(n_embd * block_size, n_hidden, bias=False), BatchNorm1d(n_hidden), Tanh(),\n",
    "    Linear(n_hidden, n_hidden, bias=False), BatchNorm1d(n_hidden), Tanh(),\n",
    "    Linear(n_hidden, n_hidden, bias=False), BatchNorm1d(n_hidden), Tanh(),\n",
    "    Linear(n_hidden, n_hidden, bias=False), BatchNorm1d(n_hidden), Tanh(),\n",
    "    Linear(n_hidden, n_hidden, bias=False), BatchNorm1d(n_hidden), Tanh(),\n",
    "    Linear(n_hidden, vocab_size, bias=False), BatchNorm1d(vocab_size),\n",
    "]"
   ]
  },
  {
   "cell_type": "code",
   "execution_count": 9,
   "id": "8221d34f",
   "metadata": {},
   "outputs": [],
   "source": [
    "# Initialize parameters and define the gradient flag\n",
    "parameters = [C] + [p for layer in layers for p in layer.parameters()]\n",
    "for p in parameters:\n",
    "    p.requires_grad = True"
   ]
  },
  {
   "cell_type": "code",
   "execution_count": 10,
   "id": "39ff8f10",
   "metadata": {},
   "outputs": [],
   "source": [
    "# Manual backpropagation setup\n",
    "W1 = torch.randn((n_embd * block_size, n_hidden), generator=g) * (5 / 3) / ((n_embd * block_size)**0.5)\n",
    "b1 = torch.randn(n_hidden, generator=g) * 0.1\n",
    "W2 = torch.randn((n_hidden, vocab_size), generator=g) * 0.1\n",
    "b2 = torch.randn(vocab_size, generator=g) * 0.1\n",
    "bngain = torch.randn((1, n_hidden)) * 0.1 + 1.0\n",
    "bnbias = torch.randn((1, n_hidden)) * 0.1\n",
    "\n",
    "manual_parameters = [C, W1, b1, W2, b2, bngain, bnbias]\n",
    "for p in manual_parameters:\n",
    "    p.requires_grad = True\n",
    "\n",
    "# Training parameters\n",
    "max_steps = 200000\n",
    "batch_size = 32\n",
    "lossi = []"
   ]
  },
  {
   "cell_type": "code",
   "execution_count": 11,
   "id": "04b7b6ab",
   "metadata": {},
   "outputs": [
    {
     "name": "stdout",
     "output_type": "stream",
     "text": [
      "      0/ 200000: loss=3.5707 manual_loss=3.9342\n",
      "  10000/ 200000: loss=2.1959 manual_loss=2.1568\n",
      "  20000/ 200000: loss=2.1327 manual_loss=2.1276\n",
      "  30000/ 200000: loss=2.0465 manual_loss=2.0551\n",
      "  40000/ 200000: loss=2.1372 manual_loss=2.2341\n",
      "  50000/ 200000: loss=2.1012 manual_loss=2.2179\n",
      "  60000/ 200000: loss=1.8225 manual_loss=1.8896\n",
      "  70000/ 200000: loss=1.9337 manual_loss=2.1060\n",
      "  80000/ 200000: loss=2.1104 manual_loss=2.0695\n",
      "  90000/ 200000: loss=2.0991 manual_loss=2.1218\n",
      " 100000/ 200000: loss=2.0941 manual_loss=1.9465\n",
      " 110000/ 200000: loss=1.9962 manual_loss=2.1405\n",
      " 120000/ 200000: loss=2.1177 manual_loss=2.4045\n",
      " 130000/ 200000: loss=2.1349 manual_loss=2.2441\n",
      " 140000/ 200000: loss=1.8693 manual_loss=1.9261\n",
      " 150000/ 200000: loss=2.2964 manual_loss=2.3809\n",
      " 160000/ 200000: loss=1.8701 manual_loss=2.0352\n",
      " 170000/ 200000: loss=1.7753 manual_loss=1.9204\n",
      " 180000/ 200000: loss=2.2273 manual_loss=2.3891\n",
      " 190000/ 200000: loss=1.8446 manual_loss=1.9112\n"
     ]
    }
   ],
   "source": [
    "# Training loop with both forward pass and manual backpropagation\n",
    "for i in range(max_steps):\n",
    "\n",
    "    # Minibatch construct\n",
    "    ix = torch.randint(0, Xtr.shape[0], (batch_size,), generator=g)\n",
    "    Xb, Yb = Xtr[ix], Ytr[ix]  # batch X, Y\n",
    "\n",
    "    # Forward pass with layers\n",
    "    emb = C[Xb]  # embed the characters into vectors\n",
    "    x = emb.view(emb.shape[0], -1)  # concatenate the vectors\n",
    "    for layer in layers:\n",
    "        x = layer(x)\n",
    "    loss = F.cross_entropy(x, Yb)  # loss function\n",
    "\n",
    "    # Zero gradients for automatic backprop\n",
    "    for p in parameters:\n",
    "        p.grad = None\n",
    "\n",
    "    # Backward pass\n",
    "    loss.backward()\n",
    "\n",
    "    # Update weights with gradient descent\n",
    "    lr = 0.1 if i < 150000 else 0.01  # step learning rate decay\n",
    "    for p in parameters:\n",
    "        p.data -= lr * p.grad\n",
    "\n",
    "    # Manual backpropagation\n",
    "    # Reset gradients\n",
    "    for p in manual_parameters:\n",
    "        p.grad = None\n",
    "\n",
    "    # Forward pass manual\n",
    "    emb = C[Xb]\n",
    "    embcat = emb.view(emb.shape[0], -1)\n",
    "    hprebn = embcat @ W1 + b1\n",
    "    bnmean = hprebn.mean(0, keepdim=True)\n",
    "    bnvar = hprebn.var(0, keepdim=True, unbiased=True)\n",
    "    bnvar_inv = (bnvar + 1e-5)**-0.5\n",
    "    bnraw = (hprebn - bnmean) * bnvar_inv\n",
    "    hpreact = bngain * bnraw + bnbias\n",
    "    h = torch.tanh(hpreact)\n",
    "    logits = h @ W2 + b2\n",
    "    loss_manual = F.cross_entropy(logits, Yb)\n",
    "\n",
    "    # Manual backpropagation gradients\n",
    "    dlogits = F.softmax(logits, 1)\n",
    "    dlogits[range(batch_size), Yb] -= 1\n",
    "    dlogits /= batch_size\n",
    "\n",
    "    # Layer 2 gradients\n",
    "    dh = dlogits @ W2.T\n",
    "    dW2 = h.T @ dlogits\n",
    "    db2 = dlogits.sum(0)\n",
    "\n",
    "    # Tanh gradients\n",
    "    dhpreact = (1.0 - h**2) * dh\n",
    "\n",
    "    # BatchNorm gradients\n",
    "    dbngain = (bnraw * dhpreact).sum(0, keepdim=True)\n",
    "    dbnbias = dhpreact.sum(0, keepdim=True)\n",
    "    dhprebn = bngain * bnvar_inv / batch_size * (batch_size * dhpreact - dhpreact.sum(0) - \n",
    "                                                 batch_size / (batch_size - 1) * bnraw * (dhpreact * bnraw).sum(0))\n",
    "\n",
    "    # Layer 1 gradients\n",
    "    dembcat = dhprebn @ W1.T\n",
    "    dW1 = embcat.T @ dhprebn\n",
    "    db1 = dhprebn.sum(0)\n",
    "\n",
    "    # Embedding gradients\n",
    "    demb = dembcat.view(emb.shape)\n",
    "    dC = torch.zeros_like(C)\n",
    "    for k in range(Xb.shape[0]):\n",
    "        for j in range(Xb.shape[1]):\n",
    "            ix = Xb[k, j]\n",
    "            dC[ix] += demb[k, j]\n",
    "\n",
    "    # Assign manual gradients to parameters\n",
    "    for p, dparam in zip(manual_parameters, [dC, dW1, db1, dW2, db2, dbngain, dbnbias]):\n",
    "        p.grad = dparam\n",
    "\n",
    "    # Update manual parameters\n",
    "    for p in manual_parameters:\n",
    "        p.data -= lr * p.grad\n",
    "\n",
    "    # Track stats\n",
    "    if i % 10000 == 0:\n",
    "        print(f'{i:7d}/{max_steps:7d}: loss={loss.item():.4f} manual_loss={loss_manual.item():.4f}')\n",
    "        lossi.append(loss.item())"
   ]
  },
  {
   "cell_type": "code",
   "execution_count": 12,
   "id": "88b59b7d",
   "metadata": {},
   "outputs": [
    {
     "data": {
      "image/png": "[encoded data removed]",
      "text/plain": [
       "<Figure size 640x480 with 1 Axes>"
      ]
     },
     "metadata": {},
     "output_type": "display_data"
    }
   ],
   "source": [
    "# Plot the loss over time\n",
    "plt.plot(lossi)\n",
    "plt.xlabel('Iterations (in 10k)')\n",
    "plt.ylabel('Loss')\n",
    "plt.title('Training Loss Over Time')\n",
    "plt.show()"
   ]
  },
  {
   "cell_type": "code",
   "execution_count": 13,
   "id": "fa8d0b3e",
   "metadata": {},
   "outputs": [
    {
     "name": "stdout",
     "output_type": "stream",
     "text": [
      "Training loss: 1.9417736530303955\n",
      "Validation loss: 2.0670723915100098\n",
      "Test loss: 2.0764963626861572\n"
     ]
    }
   ],
   "source": [
    "@torch.no_grad()\n",
    "def split_loss(split):\n",
    "    x, y = {\n",
    "        'train': (Xtr, Ytr),\n",
    "        'val': (Xdev, Ydev),\n",
    "        'test': (Xte, Yte)\n",
    "    }[split]\n",
    "    emb = C[x]  # embed the characters into vectors\n",
    "    x = emb.view(emb.shape[0], -1)  # concatenate the vectors\n",
    "    for layer in layers:\n",
    "        x = layer(x)\n",
    "    loss = F.cross_entropy(x, y)\n",
    "    return loss.item()\n",
    "\n",
    "print('Training loss:', split_loss('train'))\n",
    "print('Validation loss:', split_loss('val'))\n",
    "print('Test loss:', split_loss('test'))"
   ]
  },
  {
   "cell_type": "code",
   "execution_count": 14,
   "id": "f17e6338",
   "metadata": {},
   "outputs": [
    {
     "name": "stdout",
     "output_type": "stream",
     "text": [
      "carie.\n",
      "maisibea.\n",
      "sten.\n",
      "likaley.\n",
      "caporia.\n",
      "jaylynn.\n",
      "alua.\n",
      "kamrem.\n",
      "avrahmire.\n",
      "isze.\n",
      "jensraelailana.\n",
      "monia.\n",
      "marius.\n",
      "turserrita.\n",
      "domin.\n",
      "baira.\n",
      "binna.\n",
      "umarie.\n",
      "reiana.\n",
      "avia.\n"
     ]
    }
   ],
   "source": [
    "# sample from the model\n",
    "g = torch.Generator().manual_seed(2147 + 10)\n",
    "\n",
    "for _ in range(20):\n",
    "    \n",
    "    out = []\n",
    "    context = [0] * block_size # initialize with all ...\n",
    "    while True:\n",
    "      # ------------\n",
    "      # forward pass:\n",
    "      # Embedding\n",
    "      emb = C[torch.tensor([context])] # (1,block_size,d)      \n",
    "      embcat = emb.view(emb.shape[0], -1) # concat into (N, block_size * n_embd)\n",
    "      hpreact = embcat @ W1 + b1\n",
    "      hpreact = bngain * (hpreact - bnmean) * (bnvar + 1e-5)**-0.5 + bnbias\n",
    "      h = torch.tanh(hpreact) # (N, n_hidden)\n",
    "      logits = h @ W2 + b2 # (N, vocab_size)\n",
    "      # ------------\n",
    "      # Sample\n",
    "      probs = F.softmax(logits, dim=1)\n",
    "      ix = torch.multinomial(probs, num_samples=1, generator=g).item()\n",
    "      context = context[1:] + [ix]\n",
    "      out.append(ix)\n",
    "      if ix == 0:\n",
    "        break\n",
    "    \n",
    "    print(''.join(itos[i] for i in out))"
   ]
  },
  {
   "cell_type": "code",
   "execution_count": 15,
   "id": "5852972d",
   "metadata": {},
   "outputs": [
    {
     "name": "stdout",
     "output_type": "stream",
     "text": [
      "train 2.060652017593384\n",
      "val 2.117051362991333\n"
     ]
    }
   ],
   "source": [
    "@torch.no_grad() # this decorator disables gradient tracking\n",
    "def split_loss(split):\n",
    "  x,y = {\n",
    "    'train': (Xtr, Ytr),\n",
    "    'val': (Xdev, Ydev),\n",
    "    'test': (Xte, Yte),\n",
    "  }[split]\n",
    "  emb = C[x] # (N, block_size, n_embd)\n",
    "  embcat = emb.view(emb.shape[0], -1) # concat into (N, block_size * n_embd)\n",
    "  hpreact = embcat @ W1 + b1\n",
    "  hpreact = bngain * (hpreact - bnmean) * (bnvar + 1e-5)**-0.5 + bnbias\n",
    "  h = torch.tanh(hpreact) # (N, n_hidden)\n",
    "  logits = h @ W2 + b2 # (N, vocab_size)\n",
    "  loss = F.cross_entropy(logits, y)\n",
    "  print(split, loss.item())\n",
    "\n",
    "split_loss('train')\n",
    "split_loss('val')"
   ]
  },
  {
   "cell_type": "code",
   "execution_count": null,
   "id": "948e00f4",
   "metadata": {},
   "outputs": [],
   "source": []
  }
 ],
 "metadata": {
  "kernelspec": {
   "display_name": "Python 3 (ipykernel)",
   "language": "python",
   "name": "python3"
  },
  "language_info": {
   "codemirror_mode": {
    "name": "ipython",
    "version": 3
   },
   "file_extension": ".py",
   "mimetype": "text/x-python",
   "name": "python",
   "nbconvert_exporter": "python",
   "pygments_lexer": "ipython3",
   "version": "3.11.4"
  }
 },
 "nbformat": 4,
 "nbformat_minor": 5
}
